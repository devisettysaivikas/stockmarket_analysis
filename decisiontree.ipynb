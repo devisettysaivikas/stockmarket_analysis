{
 "cells": [
  {
   "cell_type": "code",
   "execution_count": 2,
   "metadata": {},
   "outputs": [],
   "source": [
    "import pandas as pd\n",
    "import numpy as np\n",
    "from sklearn import preprocessing"
   ]
  },
  {
   "cell_type": "code",
   "execution_count": 3,
   "metadata": {},
   "outputs": [
    {
     "name": "stdout",
     "output_type": "stream",
     "text": [
      "{'Company': {'Amazon': 0, 'Apple': 1, 'Facebook': 2, 'Google': 3, 'Netflix': 4}, 'Month': {'April': 0, 'August': 1, 'December': 2, 'February': 3, 'January': 4, 'July': 5, 'June': 6, 'March': 7, 'May': 8, 'November': 9, 'October': 10, 'September': 11}}\n"
     ]
    }
   ],
   "source": [
    "df= pd.read_csv(\"classification.csv\")\n",
    "category_col=['Company','Month']\n",
    "labelEncoder = preprocessing.LabelEncoder()\n",
    "mapping_dict ={} \n",
    "for col in category_col: \n",
    "    df[col] = labelEncoder.fit_transform(df[col]) \n",
    "  \n",
    "    le_name_mapping = dict(zip(labelEncoder.classes_, \n",
    "                        labelEncoder.transform(labelEncoder.classes_))) \n",
    "  \n",
    "    mapping_dict[col]= le_name_mapping \n",
    "print(mapping_dict) "
   ]
  },
  {
   "cell_type": "code",
   "execution_count": 4,
   "metadata": {},
   "outputs": [],
   "source": [
    "df=df.reindex(columns=['Month','Investment','Period','Company','Profit'])"
   ]
  },
  {
   "cell_type": "code",
   "execution_count": 5,
   "metadata": {},
   "outputs": [
    {
     "data": {
      "text/plain": "      Month  Investment  Period  Company  Profit\n0         6  954.820000       1        3       0\n1         6  954.820000       2        3       0\n2         6  954.820000       3        3       0\n3         6  954.820000       4        3       1\n4         6  954.820000       5        3       1\n...     ...         ...     ...      ...     ...\n1765      3  207.505263       2        2       0\n1766      3  207.505263       3        2       0\n1767      7  165.747727       1        2       1\n1768      7  165.747727       2        2       1\n1769      0  177.003335       1        2       1\n\n[1770 rows x 5 columns]",
      "text/html": "<div>\n<style scoped>\n    .dataframe tbody tr th:only-of-type {\n        vertical-align: middle;\n    }\n\n    .dataframe tbody tr th {\n        vertical-align: top;\n    }\n\n    .dataframe thead th {\n        text-align: right;\n    }\n</style>\n<table border=\"1\" class=\"dataframe\">\n  <thead>\n    <tr style=\"text-align: right;\">\n      <th></th>\n      <th>Month</th>\n      <th>Investment</th>\n      <th>Period</th>\n      <th>Company</th>\n      <th>Profit</th>\n    </tr>\n  </thead>\n  <tbody>\n    <tr>\n      <td>0</td>\n      <td>6</td>\n      <td>954.820000</td>\n      <td>1</td>\n      <td>3</td>\n      <td>0</td>\n    </tr>\n    <tr>\n      <td>1</td>\n      <td>6</td>\n      <td>954.820000</td>\n      <td>2</td>\n      <td>3</td>\n      <td>0</td>\n    </tr>\n    <tr>\n      <td>2</td>\n      <td>6</td>\n      <td>954.820000</td>\n      <td>3</td>\n      <td>3</td>\n      <td>0</td>\n    </tr>\n    <tr>\n      <td>3</td>\n      <td>6</td>\n      <td>954.820000</td>\n      <td>4</td>\n      <td>3</td>\n      <td>1</td>\n    </tr>\n    <tr>\n      <td>4</td>\n      <td>6</td>\n      <td>954.820000</td>\n      <td>5</td>\n      <td>3</td>\n      <td>1</td>\n    </tr>\n    <tr>\n      <td>...</td>\n      <td>...</td>\n      <td>...</td>\n      <td>...</td>\n      <td>...</td>\n      <td>...</td>\n    </tr>\n    <tr>\n      <td>1765</td>\n      <td>3</td>\n      <td>207.505263</td>\n      <td>2</td>\n      <td>2</td>\n      <td>0</td>\n    </tr>\n    <tr>\n      <td>1766</td>\n      <td>3</td>\n      <td>207.505263</td>\n      <td>3</td>\n      <td>2</td>\n      <td>0</td>\n    </tr>\n    <tr>\n      <td>1767</td>\n      <td>7</td>\n      <td>165.747727</td>\n      <td>1</td>\n      <td>2</td>\n      <td>1</td>\n    </tr>\n    <tr>\n      <td>1768</td>\n      <td>7</td>\n      <td>165.747727</td>\n      <td>2</td>\n      <td>2</td>\n      <td>1</td>\n    </tr>\n    <tr>\n      <td>1769</td>\n      <td>0</td>\n      <td>177.003335</td>\n      <td>1</td>\n      <td>2</td>\n      <td>1</td>\n    </tr>\n  </tbody>\n</table>\n<p>1770 rows × 5 columns</p>\n</div>"
     },
     "execution_count": 5,
     "metadata": {},
     "output_type": "execute_result"
    }
   ],
   "source": [
    "df"
   ]
  },
  {
   "cell_type": "code",
   "execution_count": 6,
   "metadata": {},
   "outputs": [],
   "source": [
    "from sklearn.model_selection import train_test_split \n",
    "from sklearn.tree import DecisionTreeClassifier \n",
    "from sklearn.metrics import accuracy_score \n",
    "  \n",
    "X = df.values[:, 0:4] \n",
    "Y = df.values[:, 4] "
   ]
  },
  {
   "cell_type": "code",
   "execution_count": 7,
   "metadata": {},
   "outputs": [
    {
     "data": {
      "text/plain": "array([[  6.      , 954.82    ,   1.      ,   3.      ],\n       [  6.      , 954.82    ,   2.      ,   3.      ],\n       [  6.      , 954.82    ,   3.      ,   3.      ],\n       ...,\n       [  7.      , 165.747727,   1.      ,   2.      ],\n       [  7.      , 165.747727,   2.      ,   2.      ],\n       [  0.      , 177.003335,   1.      ,   2.      ]])"
     },
     "execution_count": 7,
     "metadata": {},
     "output_type": "execute_result"
    }
   ],
   "source": [
    "X\n"
   ]
  },
  {
   "cell_type": "code",
   "execution_count": 11,
   "metadata": {},
   "outputs": [
    {
     "name": "stdout",
     "output_type": "stream",
     "text": [
      "Desicion Tree using Gini Index Accuracy is  76.64783427495291\n"
     ]
    }
   ],
   "source": [
    "X_train, X_test, y_train, y_test = train_test_split( \n",
    "           X, Y, test_size = 0.3, random_state = 100) \n",
    "  \n",
    "dt_clf_gini = DecisionTreeClassifier(criterion = \"gini\", \n",
    "                                     random_state = 100, \n",
    "                                     max_depth = 5, \n",
    "                                     min_samples_leaf = 5) \n",
    "  \n",
    "dt_clf_gini.fit(X_train, y_train) \n",
    "y_pred_gini = dt_clf_gini.predict(X_test) \n",
    "  \n",
    "print (\"Desicion Tree using Gini Index Accuracy is \",\n",
    "             accuracy_score(y_test, y_pred_gini)*100 ) "
   ]
  },
  {
   "cell_type": "code",
   "execution_count": 14,
   "metadata": {},
   "outputs": [],
   "source": [
    "import warnings\n",
    "import pickle\n",
    "pickle.dump(dt_clf_gini,open('model.pkl','wb'))\n",
    "model=pickle.load(open('model.pkl','rb'))\n",
    "\n"
   ]
  }
 ],
 "metadata": {
  "kernelspec": {
   "display_name": "Python 3",
   "language": "python",
   "name": "python3"
  },
  "language_info": {
   "codemirror_mode": {
    "name": "ipython",
    "version": 3
   },
   "file_extension": ".py",
   "mimetype": "text/x-python",
   "name": "python",
   "nbconvert_exporter": "python",
   "pygments_lexer": "ipython3",
   "version": "3.7.3"
  }
 },
 "nbformat": 4,
 "nbformat_minor": 2
}